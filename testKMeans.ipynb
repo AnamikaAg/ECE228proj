{
 "cells": [
  {
   "cell_type": "code",
   "execution_count": 2,
   "metadata": {},
   "outputs": [],
   "source": [
    "# Try a basic K-Means clustering to classify cells into WT and DD"
   ]
  },
  {
   "cell_type": "code",
   "execution_count": 18,
   "metadata": {},
   "outputs": [
    {
     "data": {
      "text/html": [
       "<div>\n",
       "<style scoped>\n",
       "    .dataframe tbody tr th:only-of-type {\n",
       "        vertical-align: middle;\n",
       "    }\n",
       "\n",
       "    .dataframe tbody tr th {\n",
       "        vertical-align: top;\n",
       "    }\n",
       "\n",
       "    .dataframe thead th {\n",
       "        text-align: right;\n",
       "    }\n",
       "</style>\n",
       "<table border=\"1\" class=\"dataframe\">\n",
       "  <thead>\n",
       "    <tr style=\"text-align: right;\">\n",
       "      <th></th>\n",
       "      <th>Unnamed: 0</th>\n",
       "      <th>Name</th>\n",
       "      <th>Day</th>\n",
       "      <th>Media</th>\n",
       "      <th>Type</th>\n",
       "      <th>Date</th>\n",
       "      <th>UniqueId</th>\n",
       "      <th>Path</th>\n",
       "      <th>Class</th>\n",
       "      <th>Relative</th>\n",
       "      <th>...</th>\n",
       "      <th>avgEdgeLengthGeodesic</th>\n",
       "      <th>avgEdgeLengthSpherical</th>\n",
       "      <th>avgEdgeTension</th>\n",
       "      <th>netTension</th>\n",
       "      <th>avgLongEdgesTension</th>\n",
       "      <th>LongestEdgeTension</th>\n",
       "      <th>logNodes</th>\n",
       "      <th>logNormLength</th>\n",
       "      <th>Meshedness</th>\n",
       "      <th>Redundancy</th>\n",
       "    </tr>\n",
       "  </thead>\n",
       "  <tbody>\n",
       "    <tr>\n",
       "      <th>0</th>\n",
       "      <td>4269</td>\n",
       "      <td>020714_1_100_0</td>\n",
       "      <td>1</td>\n",
       "      <td>Glucose</td>\n",
       "      <td>WT</td>\n",
       "      <td>24</td>\n",
       "      <td>1</td>\n",
       "      <td>/Volumes/TOSH/UCI/MyData/NewScopeUnbudded/Anal...</td>\n",
       "      <td>Single</td>\n",
       "      <td>NaN</td>\n",
       "      <td>...</td>\n",
       "      <td>1.614667</td>\n",
       "      <td>1.538703</td>\n",
       "      <td>0.924850</td>\n",
       "      <td>0.877446</td>\n",
       "      <td>0.800203</td>\n",
       "      <td>0.664179</td>\n",
       "      <td>3.433987</td>\n",
       "      <td>-0.426766</td>\n",
       "      <td>0.140351</td>\n",
       "      <td>0.263158</td>\n",
       "    </tr>\n",
       "    <tr>\n",
       "      <th>1</th>\n",
       "      <td>4270</td>\n",
       "      <td>020714_1_100_1</td>\n",
       "      <td>1</td>\n",
       "      <td>Glucose</td>\n",
       "      <td>WT</td>\n",
       "      <td>24</td>\n",
       "      <td>2</td>\n",
       "      <td>/Volumes/TOSH/UCI/MyData/NewScopeUnbudded/Anal...</td>\n",
       "      <td>Single</td>\n",
       "      <td>NaN</td>\n",
       "      <td>...</td>\n",
       "      <td>1.054651</td>\n",
       "      <td>1.043907</td>\n",
       "      <td>0.950813</td>\n",
       "      <td>0.891764</td>\n",
       "      <td>0.771878</td>\n",
       "      <td>0.736263</td>\n",
       "      <td>3.332205</td>\n",
       "      <td>-0.497517</td>\n",
       "      <td>0.156863</td>\n",
       "      <td>0.285714</td>\n",
       "    </tr>\n",
       "    <tr>\n",
       "      <th>2</th>\n",
       "      <td>42711</td>\n",
       "      <td>020714_1_100_2</td>\n",
       "      <td>1</td>\n",
       "      <td>Glucose</td>\n",
       "      <td>WT</td>\n",
       "      <td>24</td>\n",
       "      <td>3</td>\n",
       "      <td>/Volumes/TOSH/UCI/MyData/NewScopeUnbudded/Anal...</td>\n",
       "      <td>Single</td>\n",
       "      <td>NaN</td>\n",
       "      <td>...</td>\n",
       "      <td>0.981713</td>\n",
       "      <td>0.945678</td>\n",
       "      <td>0.940665</td>\n",
       "      <td>0.821611</td>\n",
       "      <td>0.666808</td>\n",
       "      <td>0.527201</td>\n",
       "      <td>3.332205</td>\n",
       "      <td>-0.485446</td>\n",
       "      <td>0.117647</td>\n",
       "      <td>0.181818</td>\n",
       "    </tr>\n",
       "    <tr>\n",
       "      <th>3</th>\n",
       "      <td>42721</td>\n",
       "      <td>020714_1_100_275</td>\n",
       "      <td>1</td>\n",
       "      <td>Glucose</td>\n",
       "      <td>WT</td>\n",
       "      <td>24</td>\n",
       "      <td>276</td>\n",
       "      <td>/Volumes/TOSH/UCI/MyData/NewScopeUnbudded/Anal...</td>\n",
       "      <td>Single</td>\n",
       "      <td>NaN</td>\n",
       "      <td>...</td>\n",
       "      <td>1.171089</td>\n",
       "      <td>1.114767</td>\n",
       "      <td>0.911351</td>\n",
       "      <td>0.820514</td>\n",
       "      <td>0.640758</td>\n",
       "      <td>0.713033</td>\n",
       "      <td>3.828641</td>\n",
       "      <td>-0.604221</td>\n",
       "      <td>0.080460</td>\n",
       "      <td>0.173077</td>\n",
       "    </tr>\n",
       "    <tr>\n",
       "      <th>4</th>\n",
       "      <td>4273</td>\n",
       "      <td>020714_1_100_4</td>\n",
       "      <td>1</td>\n",
       "      <td>Glucose</td>\n",
       "      <td>WT</td>\n",
       "      <td>24</td>\n",
       "      <td>5</td>\n",
       "      <td>/Volumes/TOSH/UCI/MyData/NewScopeUnbudded/Anal...</td>\n",
       "      <td>Single</td>\n",
       "      <td>NaN</td>\n",
       "      <td>...</td>\n",
       "      <td>1.122412</td>\n",
       "      <td>1.065263</td>\n",
       "      <td>0.928831</td>\n",
       "      <td>0.884689</td>\n",
       "      <td>0.807142</td>\n",
       "      <td>0.864144</td>\n",
       "      <td>3.583519</td>\n",
       "      <td>-0.512085</td>\n",
       "      <td>0.074627</td>\n",
       "      <td>0.175000</td>\n",
       "    </tr>\n",
       "  </tbody>\n",
       "</table>\n",
       "<p>5 rows × 59 columns</p>\n",
       "</div>"
      ],
      "text/plain": [
       "   Unnamed: 0              Name  Day    Media Type  Date  UniqueId  \\\n",
       "0        4269    020714_1_100_0    1  Glucose   WT    24         1   \n",
       "1        4270    020714_1_100_1    1  Glucose   WT    24         2   \n",
       "2       42711    020714_1_100_2    1  Glucose   WT    24         3   \n",
       "3       42721  020714_1_100_275    1  Glucose   WT    24       276   \n",
       "4        4273    020714_1_100_4    1  Glucose   WT    24         5   \n",
       "\n",
       "                                                Path   Class  Relative  ...  \\\n",
       "0  /Volumes/TOSH/UCI/MyData/NewScopeUnbudded/Anal...  Single       NaN  ...   \n",
       "1  /Volumes/TOSH/UCI/MyData/NewScopeUnbudded/Anal...  Single       NaN  ...   \n",
       "2  /Volumes/TOSH/UCI/MyData/NewScopeUnbudded/Anal...  Single       NaN  ...   \n",
       "3  /Volumes/TOSH/UCI/MyData/NewScopeUnbudded/Anal...  Single       NaN  ...   \n",
       "4  /Volumes/TOSH/UCI/MyData/NewScopeUnbudded/Anal...  Single       NaN  ...   \n",
       "\n",
       "   avgEdgeLengthGeodesic  avgEdgeLengthSpherical  avgEdgeTension  netTension  \\\n",
       "0               1.614667                1.538703        0.924850    0.877446   \n",
       "1               1.054651                1.043907        0.950813    0.891764   \n",
       "2               0.981713                0.945678        0.940665    0.821611   \n",
       "3               1.171089                1.114767        0.911351    0.820514   \n",
       "4               1.122412                1.065263        0.928831    0.884689   \n",
       "\n",
       "   avgLongEdgesTension  LongestEdgeTension  logNodes  logNormLength  \\\n",
       "0             0.800203            0.664179  3.433987      -0.426766   \n",
       "1             0.771878            0.736263  3.332205      -0.497517   \n",
       "2             0.666808            0.527201  3.332205      -0.485446   \n",
       "3             0.640758            0.713033  3.828641      -0.604221   \n",
       "4             0.807142            0.864144  3.583519      -0.512085   \n",
       "\n",
       "   Meshedness  Redundancy  \n",
       "0    0.140351    0.263158  \n",
       "1    0.156863    0.285714  \n",
       "2    0.117647    0.181818  \n",
       "3    0.080460    0.173077  \n",
       "4    0.074627    0.175000  \n",
       "\n",
       "[5 rows x 59 columns]"
      ]
     },
     "execution_count": 18,
     "metadata": {},
     "output_type": "execute_result"
    }
   ],
   "source": [
    "# import statements\n",
    "import numpy as np\n",
    "import matplotlib.pyplot as plt\n",
    "\n",
    "# Load the Pandas libraries with alias 'pd' \n",
    "import pandas as pd \n",
    "# Read data from file 'DataTable.csv'\n",
    "data = pd.read_csv(\"DataTable.csv\") \n",
    "# Preview the first 5 lines of the loaded data \n",
    "data.head()\n"
   ]
  },
  {
   "cell_type": "code",
   "execution_count": 12,
   "metadata": {},
   "outputs": [
    {
     "data": {
      "text/plain": [
       "(402, 59)"
      ]
     },
     "execution_count": 12,
     "metadata": {},
     "output_type": "execute_result"
    }
   ],
   "source": [
    "np.shape(data)"
   ]
  },
  {
   "cell_type": "code",
   "execution_count": 13,
   "metadata": {},
   "outputs": [
    {
     "data": {
      "text/plain": [
       "0      0.877446\n",
       "1      0.891764\n",
       "2      0.821611\n",
       "3      0.820514\n",
       "4      0.884689\n",
       "         ...   \n",
       "397         NaN\n",
       "398         NaN\n",
       "399         NaN\n",
       "400         NaN\n",
       "401         NaN\n",
       "Name: netTension, Length: 402, dtype: float64"
      ]
     },
     "execution_count": 13,
     "metadata": {},
     "output_type": "execute_result"
    }
   ],
   "source": [
    "data['netTension']"
   ]
  },
  {
   "cell_type": "code",
   "execution_count": 16,
   "metadata": {},
   "outputs": [
    {
     "data": {
      "text/plain": [
       "(200, 2)"
      ]
     },
     "execution_count": 16,
     "metadata": {},
     "output_type": "execute_result"
    }
   ],
   "source": [
    "np.shape(points)"
   ]
  },
  {
   "cell_type": "code",
   "execution_count": 65,
   "metadata": {},
   "outputs": [],
   "source": [
    "# select n number of features as points to fit to clustering algorithm\n",
    "# NEEDS some addition to ignore NaN values \n",
    "data1 = data['avgDegree']\n",
    "data2 = data['MitoToCellVolRatio']\n",
    "data3 = data['logNodes']"
   ]
  },
  {
   "cell_type": "code",
   "execution_count": 66,
   "metadata": {},
   "outputs": [],
   "source": [
    "points = np.column_stack((data1,data2,data3))"
   ]
  },
  {
   "cell_type": "code",
   "execution_count": 67,
   "metadata": {},
   "outputs": [],
   "source": [
    "# import KMeans\n",
    "from sklearn.cluster import KMeans"
   ]
  },
  {
   "cell_type": "code",
   "execution_count": 68,
   "metadata": {},
   "outputs": [
    {
     "name": "stdout",
     "output_type": "stream",
     "text": [
      "[[2.26780587 0.11707939 3.7517299 ]\n",
      " [1.97341664 0.25486571 2.92878374]]\n"
     ]
    }
   ],
   "source": [
    "# create kmeans object\n",
    "kmeans = KMeans(n_clusters=2)\n",
    "# fit kmeans object to data\n",
    "kmeans.fit(points)\n",
    "# print location of clusters learned by kmeans object\n",
    "print(kmeans.cluster_centers_)\n",
    "# save new clusters for chart\n",
    "y_km = kmeans.fit_predict(points)"
   ]
  },
  {
   "cell_type": "code",
   "execution_count": 69,
   "metadata": {},
   "outputs": [
    {
     "data": {
      "text/plain": [
       "array([0, 0, 0, 0, 0, 0, 0, 0, 0, 0, 0, 0, 0, 0, 0, 0, 0, 1, 0, 0, 1, 0,\n",
       "       0, 0, 0, 0, 1, 1, 0, 0, 0, 0, 0, 0, 0, 0, 0, 0, 0, 0, 1, 0, 0, 0,\n",
       "       0, 0, 0, 0, 1, 0, 0, 0, 0, 0, 0, 1, 1, 0, 0, 0, 0, 0, 1, 1, 0, 0,\n",
       "       1, 0, 0, 0, 0, 0, 0, 0, 0, 0, 0, 1, 1, 0, 0, 0, 0, 0, 0, 0, 0, 0,\n",
       "       0, 0, 0, 0, 0, 0, 1, 0, 0, 0, 0, 0, 0, 0, 0, 0, 0, 0, 0, 0, 0, 0,\n",
       "       0, 0, 0, 0, 0, 0, 0, 0, 0, 0, 0, 0, 0, 0, 0, 0, 0, 0, 0, 0, 0, 0,\n",
       "       0, 0, 0, 0, 0, 0, 0, 0, 0, 0, 0, 0, 0, 0, 0, 0, 0, 0, 0, 0, 0, 0,\n",
       "       0, 0, 0, 0, 0, 0, 0, 0, 0, 0, 0, 0, 0, 0, 0, 0, 0, 0, 0, 0, 0, 0,\n",
       "       0, 0, 0, 0, 0, 1, 0, 0, 0, 0, 0, 0, 0, 0, 0, 1, 0, 0, 0, 0, 0, 0,\n",
       "       1, 0, 0, 0, 0, 0, 0, 0, 0, 0, 0, 0, 0, 0, 0, 0, 0, 0, 1, 0, 0, 0,\n",
       "       0, 0, 0, 0, 0, 0, 0, 0, 0, 0, 0, 0, 0, 0, 0, 1, 0, 0, 0, 0, 1, 0,\n",
       "       0, 0, 0, 0, 1, 0, 0, 0, 0, 1, 0, 0, 0, 0, 0, 0, 0, 0, 0, 0, 0, 0,\n",
       "       0, 0, 1, 0, 0, 0, 0, 0, 0, 0, 0, 0, 0, 0, 0, 0, 1, 0, 0, 0, 0, 0,\n",
       "       0, 0, 0, 0, 0, 1, 0, 0, 0, 0, 0, 0, 0, 0, 0, 0, 0, 0, 0, 0, 0, 0,\n",
       "       0, 1, 0, 0, 0, 0, 0, 1, 0, 0, 0, 0, 0, 0, 0, 0, 0, 1, 0, 1, 1, 0,\n",
       "       1, 0, 0, 0, 0, 0, 0, 0, 1, 1, 0, 0, 0, 1, 1, 0, 0, 0, 0, 1, 0, 1,\n",
       "       1, 1, 1, 1, 1, 1, 1, 1, 1, 1, 1, 1, 1, 1, 1, 1, 1, 1, 1, 1, 1, 1,\n",
       "       1, 1, 1, 1, 1, 1, 1, 1, 1, 1, 1, 1, 1, 1, 1, 1, 1, 1, 1, 1, 1, 1,\n",
       "       1, 1, 1, 1, 1, 1], dtype=int32)"
      ]
     },
     "execution_count": 69,
     "metadata": {},
     "output_type": "execute_result"
    }
   ],
   "source": [
    "y_km"
   ]
  },
  {
   "cell_type": "code",
   "execution_count": 70,
   "metadata": {},
   "outputs": [],
   "source": [
    "clust1 = points[y_km == 0] \n",
    "clust2 = points[y_km == 1]"
   ]
  },
  {
   "cell_type": "code",
   "execution_count": 71,
   "metadata": {},
   "outputs": [
    {
     "data": {
      "text/plain": [
       "(315, 3)"
      ]
     },
     "execution_count": 71,
     "metadata": {},
     "output_type": "execute_result"
    }
   ],
   "source": [
    "np.shape(clust1)"
   ]
  },
  {
   "cell_type": "code",
   "execution_count": 74,
   "metadata": {},
   "outputs": [
    {
     "data": {
      "text/plain": [
       "<matplotlib.collections.PathCollection at 0x7fde42af14d0>"
      ]
     },
     "execution_count": 74,
     "metadata": {},
     "output_type": "execute_result"
    },
    {
     "data": {
      "image/png": "[encoded data removed]",
      "text/plain": [
       "<Figure size 432x288 with 1 Axes>"
      ]
     },
     "metadata": {
      "needs_background": "light"
     },
     "output_type": "display_data"
    }
   ],
   "source": [
    "plt.scatter(clust1[:,0],clust1[:,1],clust1[:,2], c='red')\n",
    "plt.scatter(clust2[:,0], clust2[:,1],clust2[:,2], c='black')"
   ]
  },
  {
   "cell_type": "code",
   "execution_count": null,
   "metadata": {},
   "outputs": [],
   "source": []
  }
 ],
 "metadata": {
  "kernelspec": {
   "display_name": "Python 3",
   "language": "python",
   "name": "python3"
  },
  "language_info": {
   "codemirror_mode": {
    "name": "ipython",
    "version": 3
   },
   "file_extension": ".py",
   "mimetype": "text/x-python",
   "name": "python",
   "nbconvert_exporter": "python",
   "pygments_lexer": "ipython3",
   "version": "3.7.6"
  }
 },
 "nbformat": 4,
 "nbformat_minor": 4
}
