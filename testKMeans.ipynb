{
 "cells": [
  {
   "cell_type": "code",
   "execution_count": 2,
   "metadata": {},
   "outputs": [],
   "source": [
    "# Try a basic K-Means clustering to classify cells into WT and DD"
   ]
  },
  {
   "cell_type": "code",
   "execution_count": 18,
   "metadata": {},
   "outputs": [
    {
     "data": {
      "text/html": [
       "<div>\n",
       "<style scoped>\n",
       "    .dataframe tbody tr th:only-of-type {\n",
       "        vertical-align: middle;\n",
       "    }\n",
       "\n",
       "    .dataframe tbody tr th {\n",
       "        vertical-align: top;\n",
       "    }\n",
       "\n",
       "    .dataframe thead th {\n",
       "        text-align: right;\n",
       "    }\n",
       "</style>\n",
       "<table border=\"1\" class=\"dataframe\">\n",
       "  <thead>\n",
       "    <tr style=\"text-align: right;\">\n",
       "      <th></th>\n",
       "      <th>Unnamed: 0</th>\n",
       "      <th>Name</th>\n",
       "      <th>Day</th>\n",
       "      <th>Media</th>\n",
       "      <th>Type</th>\n",
       "      <th>Date</th>\n",
       "      <th>UniqueId</th>\n",
       "      <th>Path</th>\n",
       "      <th>Class</th>\n",
       "      <th>Relative</th>\n",
       "      <th>...</th>\n",
       "      <th>avgEdgeLengthGeodesic</th>\n",
       "      <th>avgEdgeLengthSpherical</th>\n",
       "      <th>avgEdgeTension</th>\n",
       "      <th>netTension</th>\n",
       "      <th>avgLongEdgesTension</th>\n",
       "      <th>LongestEdgeTension</th>\n",
       "      <th>logNodes</th>\n",
       "      <th>logNormLength</th>\n",
       "      <th>Meshedness</th>\n",
       "      <th>Redundancy</th>\n",
       "    </tr>\n",
       "  </thead>\n",
       "  <tbody>\n",
       "    <tr>\n",
       "      <th>0</th>\n",
       "      <td>4269</td>\n",
       "      <td>020714_1_100_0</td>\n",
       "      <td>1</td>\n",
       "      <td>Glucose</td>\n",
       "      <td>WT</td>\n",
       "      <td>24</td>\n",
       "      <td>1</td>\n",
       "      <td>/Volumes/TOSH/UCI/MyData/NewScopeUnbudded/Anal...</td>\n",
       "      <td>Single</td>\n",
       "      <td>NaN</td>\n",
       "      <td>...</td>\n",
       "      <td>1.614667</td>\n",
       "      <td>1.538703</td>\n",
       "      <td>0.924850</td>\n",
       "      <td>0.877446</td>\n",
       "      <td>0.800203</td>\n",
       "      <td>0.664179</td>\n",
       "      <td>3.433987</td>\n",
       "      <td>-0.426766</td>\n",
       "      <td>0.140351</td>\n",
       "      <td>0.263158</td>\n",
       "    </tr>\n",
       "    <tr>\n",
       "      <th>1</th>\n",
       "      <td>4270</td>\n",
       "      <td>020714_1_100_1</td>\n",
       "      <td>1</td>\n",
       "      <td>Glucose</td>\n",
       "      <td>WT</td>\n",
       "      <td>24</td>\n",
       "      <td>2</td>\n",
       "      <td>/Volumes/TOSH/UCI/MyData/NewScopeUnbudded/Anal...</td>\n",
       "      <td>Single</td>\n",
       "      <td>NaN</td>\n",
       "      <td>...</td>\n",
       "      <td>1.054651</td>\n",
       "      <td>1.043907</td>\n",
       "      <td>0.950813</td>\n",
       "      <td>0.891764</td>\n",
       "      <td>0.771878</td>\n",
       "      <td>0.736263</td>\n",
       "      <td>3.332205</td>\n",
       "      <td>-0.497517</td>\n",
       "      <td>0.156863</td>\n",
       "      <td>0.285714</td>\n",
       "    </tr>\n",
       "    <tr>\n",
       "      <th>2</th>\n",
       "      <td>42711</td>\n",
       "      <td>020714_1_100_2</td>\n",
       "      <td>1</td>\n",
       "      <td>Glucose</td>\n",
       "      <td>WT</td>\n",
       "      <td>24</td>\n",
       "      <td>3</td>\n",
       "      <td>/Volumes/TOSH/UCI/MyData/NewScopeUnbudded/Anal...</td>\n",
       "      <td>Single</td>\n",
       "      <td>NaN</td>\n",
       "      <td>...</td>\n",
       "      <td>0.981713</td>\n",
       "      <td>0.945678</td>\n",
       "      <td>0.940665</td>\n",
       "      <td>0.821611</td>\n",
       "      <td>0.666808</td>\n",
       "      <td>0.527201</td>\n",
       "      <td>3.332205</td>\n",
       "      <td>-0.485446</td>\n",
       "      <td>0.117647</td>\n",
       "      <td>0.181818</td>\n",
       "    </tr>\n",
       "    <tr>\n",
       "      <th>3</th>\n",
       "      <td>42721</td>\n",
       "      <td>020714_1_100_275</td>\n",
       "      <td>1</td>\n",
       "      <td>Glucose</td>\n",
       "      <td>WT</td>\n",
       "      <td>24</td>\n",
       "      <td>276</td>\n",
       "      <td>/Volumes/TOSH/UCI/MyData/NewScopeUnbudded/Anal...</td>\n",
       "      <td>Single</td>\n",
       "      <td>NaN</td>\n",
       "      <td>...</td>\n",
       "      <td>1.171089</td>\n",
       "      <td>1.114767</td>\n",
       "      <td>0.911351</td>\n",
       "      <td>0.820514</td>\n",
       "      <td>0.640758</td>\n",
       "      <td>0.713033</td>\n",
       "      <td>3.828641</td>\n",
       "      <td>-0.604221</td>\n",
       "      <td>0.080460</td>\n",
       "      <td>0.173077</td>\n",
       "    </tr>\n",
       "    <tr>\n",
       "      <th>4</th>\n",
       "      <td>4273</td>\n",
       "      <td>020714_1_100_4</td>\n",
       "      <td>1</td>\n",
       "      <td>Glucose</td>\n",
       "      <td>WT</td>\n",
       "      <td>24</td>\n",
       "      <td>5</td>\n",
       "      <td>/Volumes/TOSH/UCI/MyData/NewScopeUnbudded/Anal...</td>\n",
       "      <td>Single</td>\n",
       "      <td>NaN</td>\n",
       "      <td>...</td>\n",
       "      <td>1.122412</td>\n",
       "      <td>1.065263</td>\n",
       "      <td>0.928831</td>\n",
       "      <td>0.884689</td>\n",
       "      <td>0.807142</td>\n",
       "      <td>0.864144</td>\n",
       "      <td>3.583519</td>\n",
       "      <td>-0.512085</td>\n",
       "      <td>0.074627</td>\n",
       "      <td>0.175000</td>\n",
       "    </tr>\n",
       "  </tbody>\n",
       "</table>\n",
       "<p>5 rows × 59 columns</p>\n",
       "</div>"
      ],
      "text/plain": [
       "   Unnamed: 0              Name  Day    Media Type  Date  UniqueId  \\\n",
       "0        4269    020714_1_100_0    1  Glucose   WT    24         1   \n",
       "1        4270    020714_1_100_1    1  Glucose   WT    24         2   \n",
       "2       42711    020714_1_100_2    1  Glucose   WT    24         3   \n",
       "3       42721  020714_1_100_275    1  Glucose   WT    24       276   \n",
       "4        4273    020714_1_100_4    1  Glucose   WT    24         5   \n",
       "\n",
       "                                                Path   Class  Relative  ...  \\\n",
       "0  /Volumes/TOSH/UCI/MyData/NewScopeUnbudded/Anal...  Single       NaN  ...   \n",
       "1  /Volumes/TOSH/UCI/MyData/NewScopeUnbudded/Anal...  Single       NaN  ...   \n",
       "2  /Volumes/TOSH/UCI/MyData/NewScopeUnbudded/Anal...  Single       NaN  ...   \n",
       "3  /Volumes/TOSH/UCI/MyData/NewScopeUnbudded/Anal...  Single       NaN  ...   \n",
       "4  /Volumes/TOSH/UCI/MyData/NewScopeUnbudded/Anal...  Single       NaN  ...   \n",
       "\n",
       "   avgEdgeLengthGeodesic  avgEdgeLengthSpherical  avgEdgeTension  netTension  \\\n",
       "0               1.614667                1.538703        0.924850    0.877446   \n",
       "1               1.054651                1.043907        0.950813    0.891764   \n",
       "2               0.981713                0.945678        0.940665    0.821611   \n",
       "3               1.171089                1.114767        0.911351    0.820514   \n",
       "4               1.122412                1.065263        0.928831    0.884689   \n",
       "\n",
       "   avgLongEdgesTension  LongestEdgeTension  logNodes  logNormLength  \\\n",
       "0             0.800203            0.664179  3.433987      -0.426766   \n",
       "1             0.771878            0.736263  3.332205      -0.497517   \n",
       "2             0.666808            0.527201  3.332205      -0.485446   \n",
       "3             0.640758            0.713033  3.828641      -0.604221   \n",
       "4             0.807142            0.864144  3.583519      -0.512085   \n",
       "\n",
       "   Meshedness  Redundancy  \n",
       "0    0.140351    0.263158  \n",
       "1    0.156863    0.285714  \n",
       "2    0.117647    0.181818  \n",
       "3    0.080460    0.173077  \n",
       "4    0.074627    0.175000  \n",
       "\n",
       "[5 rows x 59 columns]"
      ]
     },
     "execution_count": 18,
     "metadata": {},
     "output_type": "execute_result"
    }
   ],
   "source": [
    "# import statements\n",
    "import numpy as np\n",
    "import matplotlib.pyplot as plt\n",
    "\n",
    "# Load the Pandas libraries with alias 'pd' \n",
    "import pandas as pd \n",
    "# Read data from file 'DataTable.csv'\n",
    "data = pd.read_csv(\"DataTable.csv\") \n",
    "# Preview the first 5 lines of the loaded data \n",
    "data.head()\n"
   ]
  },
  {
   "cell_type": "code",
   "execution_count": 12,
   "metadata": {},
   "outputs": [
    {
     "data": {
      "text/plain": [
       "(402, 59)"
      ]
     },
     "execution_count": 12,
     "metadata": {},
     "output_type": "execute_result"
    }
   ],
   "source": [
    "np.shape(data)"
   ]
  },
  {
   "cell_type": "code",
   "execution_count": 13,
   "metadata": {},
   "outputs": [
    {
     "data": {
      "text/plain": [
       "0      0.877446\n",
       "1      0.891764\n",
       "2      0.821611\n",
       "3      0.820514\n",
       "4      0.884689\n",
       "         ...   \n",
       "397         NaN\n",
       "398         NaN\n",
       "399         NaN\n",
       "400         NaN\n",
       "401         NaN\n",
       "Name: netTension, Length: 402, dtype: float64"
      ]
     },
     "execution_count": 13,
     "metadata": {},
     "output_type": "execute_result"
    }
   ],
   "source": [
    "data['netTension']"
   ]
  },
  {
   "cell_type": "code",
   "execution_count": 16,
   "metadata": {},
   "outputs": [
    {
     "data": {
      "text/plain": [
       "(200, 2)"
      ]
     },
     "execution_count": 16,
     "metadata": {},
     "output_type": "execute_result"
    }
   ],
   "source": [
    "np.shape(points)"
   ]
  },
  {
   "cell_type": "code",
   "execution_count": 36,
   "metadata": {},
   "outputs": [],
   "source": [
    "# select n number of features as points to fit to clustering algorithm\n",
    "data1 = data['avgEdgeLengthSpherical']\n",
    "data2 = data['avgDegree']"
   ]
  },
  {
   "cell_type": "code",
   "execution_count": 37,
   "metadata": {},
   "outputs": [],
   "source": [
    "points = np.column_stack((data1,data2))"
   ]
  },
  {
   "cell_type": "code",
   "execution_count": 38,
   "metadata": {},
   "outputs": [],
   "source": [
    "# import KMeans\n",
    "from sklearn.cluster import KMeans"
   ]
  },
  {
   "cell_type": "code",
   "execution_count": 39,
   "metadata": {},
   "outputs": [
    {
     "ename": "ValueError",
     "evalue": "Input contains NaN, infinity or a value too large for dtype('float64').",
     "output_type": "error",
     "traceback": [
      "\u001b[0;31m---------------------------------------------------------------------------\u001b[0m",
      "\u001b[0;31mValueError\u001b[0m                                Traceback (most recent call last)",
      "\u001b[0;32m<ipython-input-39-9e3610585463>\u001b[0m in \u001b[0;36m<module>\u001b[0;34m\u001b[0m\n\u001b[1;32m      2\u001b[0m \u001b[0mkmeans\u001b[0m \u001b[0;34m=\u001b[0m \u001b[0mKMeans\u001b[0m\u001b[0;34m(\u001b[0m\u001b[0mn_clusters\u001b[0m\u001b[0;34m=\u001b[0m\u001b[0;36m2\u001b[0m\u001b[0;34m)\u001b[0m\u001b[0;34m\u001b[0m\u001b[0;34m\u001b[0m\u001b[0m\n\u001b[1;32m      3\u001b[0m \u001b[0;31m# fit kmeans object to data\u001b[0m\u001b[0;34m\u001b[0m\u001b[0;34m\u001b[0m\u001b[0;34m\u001b[0m\u001b[0m\n\u001b[0;32m----> 4\u001b[0;31m \u001b[0mkmeans\u001b[0m\u001b[0;34m.\u001b[0m\u001b[0mfit\u001b[0m\u001b[0;34m(\u001b[0m\u001b[0mpoints\u001b[0m\u001b[0;34m)\u001b[0m\u001b[0;34m\u001b[0m\u001b[0;34m\u001b[0m\u001b[0m\n\u001b[0m\u001b[1;32m      5\u001b[0m \u001b[0;31m# print location of clusters learned by kmeans object\u001b[0m\u001b[0;34m\u001b[0m\u001b[0;34m\u001b[0m\u001b[0;34m\u001b[0m\u001b[0m\n\u001b[1;32m      6\u001b[0m \u001b[0mprint\u001b[0m\u001b[0;34m(\u001b[0m\u001b[0mkmeans\u001b[0m\u001b[0;34m.\u001b[0m\u001b[0mcluster_centers_\u001b[0m\u001b[0;34m)\u001b[0m\u001b[0;34m\u001b[0m\u001b[0;34m\u001b[0m\u001b[0m\n",
      "\u001b[0;32m~/anaconda3/lib/python3.7/site-packages/sklearn/cluster/_kmeans.py\u001b[0m in \u001b[0;36mfit\u001b[0;34m(self, X, y, sample_weight)\u001b[0m\n\u001b[1;32m    857\u001b[0m         \u001b[0morder\u001b[0m \u001b[0;34m=\u001b[0m \u001b[0;34m\"C\"\u001b[0m \u001b[0;32mif\u001b[0m \u001b[0mself\u001b[0m\u001b[0;34m.\u001b[0m\u001b[0mcopy_x\u001b[0m \u001b[0;32melse\u001b[0m \u001b[0;32mNone\u001b[0m\u001b[0;34m\u001b[0m\u001b[0;34m\u001b[0m\u001b[0m\n\u001b[1;32m    858\u001b[0m         X = check_array(X, accept_sparse='csr', dtype=[np.float64, np.float32],\n\u001b[0;32m--> 859\u001b[0;31m                         order=order, copy=self.copy_x)\n\u001b[0m\u001b[1;32m    860\u001b[0m         \u001b[0;31m# verify that the number of samples given is larger than k\u001b[0m\u001b[0;34m\u001b[0m\u001b[0;34m\u001b[0m\u001b[0;34m\u001b[0m\u001b[0m\n\u001b[1;32m    861\u001b[0m         \u001b[0;32mif\u001b[0m \u001b[0m_num_samples\u001b[0m\u001b[0;34m(\u001b[0m\u001b[0mX\u001b[0m\u001b[0;34m)\u001b[0m \u001b[0;34m<\u001b[0m \u001b[0mself\u001b[0m\u001b[0;34m.\u001b[0m\u001b[0mn_clusters\u001b[0m\u001b[0;34m:\u001b[0m\u001b[0;34m\u001b[0m\u001b[0;34m\u001b[0m\u001b[0m\n",
      "\u001b[0;32m~/anaconda3/lib/python3.7/site-packages/sklearn/utils/validation.py\u001b[0m in \u001b[0;36mcheck_array\u001b[0;34m(array, accept_sparse, accept_large_sparse, dtype, order, copy, force_all_finite, ensure_2d, allow_nd, ensure_min_samples, ensure_min_features, warn_on_dtype, estimator)\u001b[0m\n\u001b[1;32m    576\u001b[0m         \u001b[0;32mif\u001b[0m \u001b[0mforce_all_finite\u001b[0m\u001b[0;34m:\u001b[0m\u001b[0;34m\u001b[0m\u001b[0;34m\u001b[0m\u001b[0m\n\u001b[1;32m    577\u001b[0m             _assert_all_finite(array,\n\u001b[0;32m--> 578\u001b[0;31m                                allow_nan=force_all_finite == 'allow-nan')\n\u001b[0m\u001b[1;32m    579\u001b[0m \u001b[0;34m\u001b[0m\u001b[0m\n\u001b[1;32m    580\u001b[0m     \u001b[0;32mif\u001b[0m \u001b[0mensure_min_samples\u001b[0m \u001b[0;34m>\u001b[0m \u001b[0;36m0\u001b[0m\u001b[0;34m:\u001b[0m\u001b[0;34m\u001b[0m\u001b[0;34m\u001b[0m\u001b[0m\n",
      "\u001b[0;32m~/anaconda3/lib/python3.7/site-packages/sklearn/utils/validation.py\u001b[0m in \u001b[0;36m_assert_all_finite\u001b[0;34m(X, allow_nan, msg_dtype)\u001b[0m\n\u001b[1;32m     58\u001b[0m                     \u001b[0mmsg_err\u001b[0m\u001b[0;34m.\u001b[0m\u001b[0mformat\u001b[0m\u001b[0;34m\u001b[0m\u001b[0;34m\u001b[0m\u001b[0m\n\u001b[1;32m     59\u001b[0m                     (type_err,\n\u001b[0;32m---> 60\u001b[0;31m                      msg_dtype if msg_dtype is not None else X.dtype)\n\u001b[0m\u001b[1;32m     61\u001b[0m             )\n\u001b[1;32m     62\u001b[0m     \u001b[0;31m# for object dtype data, we only check for NaNs (GH-13254)\u001b[0m\u001b[0;34m\u001b[0m\u001b[0;34m\u001b[0m\u001b[0;34m\u001b[0m\u001b[0m\n",
      "\u001b[0;31mValueError\u001b[0m: Input contains NaN, infinity or a value too large for dtype('float64')."
     ]
    }
   ],
   "source": [
    "# create kmeans object\n",
    "kmeans = KMeans(n_clusters=2)\n",
    "# fit kmeans object to data\n",
    "kmeans.fit(points)\n",
    "# print location of clusters learned by kmeans object\n",
    "print(kmeans.cluster_centers_)\n",
    "# save new clusters for chart\n",
    "y_km = kmeans.fit_predict(points)"
   ]
  },
  {
   "cell_type": "code",
   "execution_count": 29,
   "metadata": {},
   "outputs": [
    {
     "data": {
      "text/plain": [
       "array([1, 1, 1, 1, 1, 1, 1, 0, 1, 1, 1, 0, 0, 1, 1, 0, 1, 0, 1, 1, 0, 1,\n",
       "       0, 1, 1, 0, 0, 1, 1, 1, 1, 1, 0, 0, 0, 1, 1, 1, 1, 1, 1, 1, 1, 1,\n",
       "       1, 0, 0, 1, 1, 1, 0, 1, 1, 1, 1, 1, 1, 1, 1, 1, 0, 1, 0, 0, 1, 0,\n",
       "       0, 1, 1, 1, 1, 1, 0, 0, 1, 1, 1, 1, 1, 0, 0, 1, 0, 0, 1, 0, 1, 1,\n",
       "       1, 0, 1, 0, 0, 1, 1, 1, 1, 0, 1, 0, 0, 0, 1, 0, 0, 0, 1, 0, 1, 1,\n",
       "       0, 0, 1, 1, 0, 0, 1, 1, 1, 0, 0, 0, 1, 0, 1, 1, 1, 1, 1, 0, 1, 0,\n",
       "       0, 1, 1, 1, 0, 0, 0, 1, 1, 1, 0, 0, 1, 1, 0, 1, 0, 0, 0, 0, 1, 0,\n",
       "       0, 0, 0, 0, 0, 0, 1, 1, 0, 0, 1, 0, 0, 1, 1, 1, 1, 1, 0, 0, 1, 1,\n",
       "       0, 1, 1, 1, 1, 1, 1, 1, 1, 0, 0, 1, 1, 0, 1, 0, 1, 0, 1, 0, 1, 1,\n",
       "       1, 0, 1, 1, 0, 1, 1, 0, 1, 1, 0, 1, 1, 1, 1, 0, 1, 0, 1, 1, 0, 1,\n",
       "       1, 1, 1, 1, 1, 1, 1, 0, 1, 0, 1, 0, 1, 0, 1, 1, 1, 0, 0, 0, 0, 0,\n",
       "       0, 0, 0, 0, 0, 0, 1, 1, 1, 0, 0, 1, 0, 1, 0, 0, 1, 0, 1, 1, 1, 1,\n",
       "       1, 0, 0, 0, 0, 0, 0, 1, 1, 0, 0, 0, 1, 1, 0, 1, 0, 1, 1, 1, 0, 0,\n",
       "       1, 1, 0, 0, 1, 0, 1, 1, 0, 1, 0, 0, 1, 1, 0, 1, 0, 0, 1, 0, 1, 1,\n",
       "       1, 1, 1, 0, 0, 1, 0, 1, 1, 1, 1, 0, 1, 1, 1, 0, 1, 1, 0, 1, 0, 1,\n",
       "       1, 0, 1, 1, 0, 1, 1, 0, 0, 0, 1, 1, 0, 0, 0, 1, 0, 0, 1, 0, 0, 0,\n",
       "       0, 0, 0, 0, 1, 0, 0, 1, 0, 0, 0, 0, 0, 1, 0, 0, 0, 0, 0, 0, 0, 0,\n",
       "       0, 1, 0, 0, 0, 0, 0, 0, 0, 0, 0, 0, 0, 0, 0, 0, 0, 0, 0, 0, 0, 0,\n",
       "       0, 0, 0, 0, 0, 1], dtype=int32)"
      ]
     },
     "execution_count": 29,
     "metadata": {},
     "output_type": "execute_result"
    }
   ],
   "source": [
    "y_km"
   ]
  },
  {
   "cell_type": "code",
   "execution_count": 33,
   "metadata": {},
   "outputs": [],
   "source": [
    "clust1 = points[y_km == 0] \n",
    "clust2 = points[y_km == 1]"
   ]
  },
  {
   "cell_type": "code",
   "execution_count": 35,
   "metadata": {},
   "outputs": [
    {
     "data": {
      "text/plain": [
       "<matplotlib.collections.PathCollection at 0x7fde42d0cf10>"
      ]
     },
     "execution_count": 35,
     "metadata": {},
     "output_type": "execute_result"
    },
    {
     "data": {
      "image/png": "[encoded data removed]",
      "text/plain": [
       "<Figure size 432x288 with 1 Axes>"
      ]
     },
     "metadata": {
      "needs_background": "light"
     },
     "output_type": "display_data"
    }
   ],
   "source": [
    "plt.scatter(clust1[:,0],clust1[:,1], s=100, c='red')\n",
    "plt.scatter(clust2[:,0], clust2[:,1], s=100, c='black')"
   ]
  },
  {
   "cell_type": "code",
   "execution_count": null,
   "metadata": {},
   "outputs": [],
   "source": []
  }
 ],
 "metadata": {
  "kernelspec": {
   "display_name": "Python 3",
   "language": "python",
   "name": "python3"
  },
  "language_info": {
   "codemirror_mode": {
    "name": "ipython",
    "version": 3
   },
   "file_extension": ".py",
   "mimetype": "text/x-python",
   "name": "python",
   "nbconvert_exporter": "python",
   "pygments_lexer": "ipython3",
   "version": "3.7.6"
  }
 },
 "nbformat": 4,
 "nbformat_minor": 4
}
